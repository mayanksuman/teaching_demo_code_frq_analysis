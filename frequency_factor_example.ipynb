{
 "cells": [
  {
   "cell_type": "markdown",
   "metadata": {},
   "source": [
    "# Frequency Analysis using Frequency Factor\n",
    "\n",
    "**Question**: For the given data, find the annual maximum daily flow having a return period of 10 Years? Assume that\n",
    "the annual maximum daily flow follow a) Lognormal b) Gumbel distribution.\n",
    "\n",
    "**Note**: Answer in slide may differ due to rounding off error."
   ]
  },
  {
   "cell_type": "code",
   "execution_count": 1,
   "metadata": {},
   "outputs": [],
   "source": [
    "# Intialization: Import required libraries\n",
    "import os\n",
    "\n",
    "import numpy as np\n",
    "from scipy import stats\n",
    "import pandas as pd\n",
    "\n",
    "# Data reading\n",
    "T=10\n",
    "P=1/T\n",
    "\n",
    "DATA_FILE=os.path.join('data','Gauge-Discharge Data Jondhra,1980-2019.csv')\n",
    "_data = pd.read_csv(DATA_FILE, index_col='Dates')\n",
    "data = _data['01-06-1980':'31-05-2020']['Flow in cumecs']\n",
    "data.index = pd.to_datetime(data.index, format='%d-%m-%Y')"
   ]
  },
  {
   "cell_type": "markdown",
   "metadata": {},
   "source": [
    "## Functions for finding maxima in time series\n",
    "The following python functions can extract the maximum values from a hydrological time series. The description of all functions is provided in the first line of function body (enclosed by \"\"\"...\"\"\")."
   ]
  },
  {
   "cell_type": "code",
   "execution_count": 2,
   "metadata": {},
   "outputs": [],
   "source": [
    "# Functions for extracting maxima values from the hydrological time series\n",
    "def check_1D_timeseries(data):\n",
    "    \"\"\"Check if the input is a valid time series\"\"\"\n",
    "    if not isinstance(data, pd.Series):\n",
    "        raise ValueError('This function only works with pandas Series.')\n",
    "    if not isinstance(data.index, pd.DatetimeIndex):\n",
    "        raise ValueError('This function only works with time series.')\n",
    "\n",
    "\n",
    "def get_water_year(date):\n",
    "    \"\"\"Given a timeseries return water year for each value.\"\"\"\n",
    "    date = pd.to_datetime(date)\n",
    "    # Water year start in June and ends in May next year\n",
    "    water_yr = np.where(date.month >= 6, date.year, date.year-1)\n",
    "    return water_yr\n",
    "\n",
    "\n",
    "def find_year_maxima(data):\n",
    "    \"\"\"Find maximum value for different water years.\"\"\"\n",
    "    # Check if data is time series\n",
    "    check_1D_timeseries(data)\n",
    "\n",
    "    year_maxima = data.groupby(get_water_year(data.index)).max()\n",
    "    max_flow_dates = data.groupby(get_water_year(data.index)).idxmax()\n",
    "\n",
    "    return year_maxima, max_flow_dates\n",
    "\n",
    "\n",
    "def find_exceedance(data, quantile=0.95):\n",
    "    \"\"\"Find values in time series above some quantile.\"\"\"\n",
    "    # Check if data is time series\n",
    "    check_1D_timeseries(data)\n",
    "\n",
    "    return data[data >= data.quantile(q=quantile)]"
   ]
  },
  {
   "cell_type": "markdown",
   "metadata": {},
   "source": [
    "## Statistics for annual maximum flood "
   ]
  },
  {
   "cell_type": "code",
   "execution_count": 3,
   "metadata": {},
   "outputs": [
    {
     "data": {
      "text/plain": [
       "(4998.527175625, 2482.4226540946233, 0.49663082081457904)"
      ]
     },
     "execution_count": 3,
     "metadata": {},
     "output_type": "execute_result"
    }
   ],
   "source": [
    "year_maxima, max_flow_dates = find_year_maxima(data)\n",
    "\n",
    "mean_x = np.mean(year_maxima.values)\n",
    "std_x = np.std(year_maxima.values)\n",
    "C_v = std_x/mean_x\n",
    "mean_x, std_x, C_v"
   ]
  },
  {
   "cell_type": "markdown",
   "metadata": {},
   "source": [
    "## a) Lognormal distribution\n",
    "\n",
    "Assuming $Y=log(X)$, then \n",
    "$$\\bar{y}=\\frac{1}{2}\\log\\left[\\frac{\\bar{x}^2}{C_v^2+1}\\right]$$\n",
    "\n",
    "$$S_y=\\sqrt{\\log(C_v^2+1)}$$\n"
   ]
  },
  {
   "cell_type": "code",
   "execution_count": 4,
   "metadata": {},
   "outputs": [
    {
     "name": "stdout",
     "output_type": "stream",
     "text": [
      "Annual maximum flood for return period 10 is 8171.37 cumeec, if the annual maximum flood series follows lognormal distribution.\n"
     ]
    }
   ],
   "source": [
    "y_bar = 0.5*np.log(mean_x**2/(C_v**2+1))\n",
    "S_y = np.sqrt(np.log(C_v**2+1))\n",
    "F_y = 1 - P \n",
    "Z = stats.norm.ppf(F_y)\n",
    "K_T_ln = Z\n",
    "y_T_ln = y_bar + K_T_ln * S_y\n",
    "x_T_ln = np.exp(y_T_ln)\n",
    "print('Annual maximum flood for return period {} is {:0.2f} cumeec,'.format(T, x_T_ln),\n",
    "      'if the annual maximum flood series follows lognormal distribution.')"
   ]
  },
  {
   "cell_type": "markdown",
   "metadata": {},
   "source": [
    "## b) Gumbel Distribution\n",
    "Assuming $Y=(X-\\beta)/\\alpha$, where \n",
    "\n",
    "$$\\alpha = S_x/ 1.2825$$\n",
    "                        \n",
    "$$\\beta = \\bar{x} -0 .4501 S_x$$\n",
    "\n",
    "For a value of $X$ (say $x_T$; having corresponding value of $y_T$ as per above transformation), using the values of $\\alpha$ and $\\beta$, the frequency factor is given by:\n",
    "\n",
    "$$K_T=(y_T-0.5772)/1.2825$$\n",
    "\n",
    "where,$y_T$ is estimated by equation $P(X\\ge x_T)=1-e^{-e^{-y_T}}$"
   ]
  },
  {
   "cell_type": "code",
   "execution_count": 5,
   "metadata": {},
   "outputs": [
    {
     "name": "stdout",
     "output_type": "stream",
     "text": [
      "Annual maximum flood for return period 10 is 8237.13 cumeec, if the annual maximum flood series follows Gumbel distribution.\n"
     ]
    }
   ],
   "source": [
    "y_T_g = -np.log(-np.log(1-P))\n",
    "K_T_g = (y_T_g-0.5772)/1.2825\n",
    "x_T_g = mean_x + K_T_g*std_x\n",
    "print('Annual maximum flood for return period {} is {:0.2f} cumeec,'.format(T, x_T_g),\n",
    "      'if the annual maximum flood series follows Gumbel distribution.')"
   ]
  }
 ],
 "metadata": {
  "kernelspec": {
   "display_name": "Python [conda env:num_python]",
   "language": "python",
   "name": "conda-env-num_python-py"
  },
  "language_info": {
   "codemirror_mode": {
    "name": "ipython",
    "version": 3
   },
   "file_extension": ".py",
   "mimetype": "text/x-python",
   "name": "python",
   "nbconvert_exporter": "python",
   "pygments_lexer": "ipython3",
   "version": "3.8.5"
  }
 },
 "nbformat": 4,
 "nbformat_minor": 4
}
